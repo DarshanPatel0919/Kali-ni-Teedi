{
 "cells": [
  {
   "cell_type": "code",
   "execution_count": 5,
   "metadata": {},
   "outputs": [],
   "source": [
    "import requests\n",
    "\n",
    "def suitConverter(cardNumber):\n",
    "    suitMap = {0 : 'C', 1 : 'D',2 : 'H',3 : 'S'} \n",
    "    suitNumber = cardNumber%4\n",
    "    return suitMap[suitNumber]\n",
    "\n",
    "\n",
    "def validValue(cardValue):\n",
    "    valueMap = { 1 : 'A',10 : '0',11 : 'J',12 : 'Q',13 : 'K'}\n",
    "    if 1 < cardValue and cardValue < 10:\n",
    "        return cardValue\n",
    "    else: \n",
    "        return valueMap[cardValue] \n",
    "\n",
    "\n",
    "def NumericToString(cardNumber):\n",
    "    suit = str(suitConverter(cardNumber))\n",
    "    cardValue = (cardNumber-1) %13 + 1\n",
    "    validCardValue = str(validValue(cardValue))\n",
    "    return validCardValue + suit\n",
    "\n",
    "for i in range(1,53):\n",
    "    card = NumericToString(i)\n",
    "    src =  \"http://deckofcardsapi.com/static/img/\" + card + \".png\"\n",
    "    img = card + \".png\"    \n",
    "    with open(img, 'wb') as handle:\n",
    "        response = requests.get(src, stream=True)\n",
    "        if not response.ok:\n",
    "            print (response)\n",
    "        for block in response.iter_content(1024):\n",
    "            if not block:\n",
    "                break\n",
    "            handle.write(block)\n",
    "\n"
   ]
  },
  {
   "cell_type": "code",
   "execution_count": 2,
   "metadata": {},
   "outputs": [],
   "source": [
    "\n"
   ]
  }
 ],
 "metadata": {
  "kernelspec": {
   "display_name": "Python 3",
   "language": "python",
   "name": "python3"
  },
  "language_info": {
   "codemirror_mode": {
    "name": "ipython",
    "version": 3
   },
   "file_extension": ".py",
   "mimetype": "text/x-python",
   "name": "python",
   "nbconvert_exporter": "python",
   "pygments_lexer": "ipython3",
   "version": "3.7.4"
  }
 },
 "nbformat": 4,
 "nbformat_minor": 2
}
